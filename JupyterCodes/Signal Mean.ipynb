{
 "cells": [
  {
   "cell_type": "code",
   "execution_count": 1,
   "metadata": {},
   "outputs": [],
   "source": [
    "import numpy as np\n",
    "import mysignals as sig"
   ]
  },
  {
   "cell_type": "code",
   "execution_count": 2,
   "metadata": {},
   "outputs": [],
   "source": [
    "signal_mean = np.mean(sig.InputSignal_1kHz_15kHz)"
   ]
  },
  {
   "cell_type": "code",
   "execution_count": 3,
   "metadata": {},
   "outputs": [
    {
     "name": "stdout",
     "output_type": "stream",
     "text": [
      "The signal Mean is :  0.0371118795884375\n"
     ]
    }
   ],
   "source": [
    "# printing mean of the signal\n",
    "print(\"The signal Mean is : \",signal_mean)"
   ]
  },
  {
   "cell_type": "code",
   "execution_count": 4,
   "metadata": {},
   "outputs": [],
   "source": [
    "# mean is calculated to take an offset of a signal\n",
    "# RAW ECG signals for an instance whenver plotted, are waving away, going up n down, not sitting in straight line\n",
    "# so to sort them and plot in a line we can use signal mean\n",
    "# we can easily detect peaks and calculate the heart rate, etc"
   ]
  },
  {
   "cell_type": "code",
   "execution_count": 5,
   "metadata": {},
   "outputs": [],
   "source": [
    "#  calculating mean from scratch without using any module / function\n",
    "\n",
    "\n",
    "_mean = 0.0\n",
    "\n",
    "def cal_mean_signal(sig_arr):\n",
    "    global _mean\n",
    "    for i in range(len(sig_arr)):\n",
    "        _mean +=  sig_arr[i]\n",
    "    _mean = _mean / len(sig_arr)\n",
    "    return _mean"
   ]
  },
  {
   "cell_type": "code",
   "execution_count": 6,
   "metadata": {},
   "outputs": [
    {
     "name": "stdout",
     "output_type": "stream",
     "text": [
      "The mean of the given signal is :  0.037111879588437494\n"
     ]
    }
   ],
   "source": [
    "mean_sr = cal_mean_signal(sig.InputSignal_1kHz_15kHz)\n",
    "print(\"The mean of the given signal is : \", mean_sr)"
   ]
  },
  {
   "cell_type": "code",
   "execution_count": 10,
   "metadata": {},
   "outputs": [
    {
     "name": "stdout",
     "output_type": "stream",
     "text": [
      "The variance of the signal is :  0.6182214651545005\n"
     ]
    }
   ],
   "source": [
    "# calculating the variance of the signal\n",
    "\n",
    "sig_variance = np.var(sig.InputSignal_1kHz_15kHz)\n",
    "print(\"The variance of the signal is : \",sig_variance)"
   ]
  }
 ],
 "metadata": {
  "kernelspec": {
   "display_name": "Python 3",
   "language": "python",
   "name": "python3"
  },
  "language_info": {
   "codemirror_mode": {
    "name": "ipython",
    "version": 3
   },
   "file_extension": ".py",
   "mimetype": "text/x-python",
   "name": "python",
   "nbconvert_exporter": "python",
   "pygments_lexer": "ipython3",
   "version": "3.8.3"
  }
 },
 "nbformat": 4,
 "nbformat_minor": 4
}
