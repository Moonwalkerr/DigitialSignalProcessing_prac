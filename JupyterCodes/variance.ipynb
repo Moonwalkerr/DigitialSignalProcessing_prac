{
 "cells": [
  {
   "cell_type": "code",
   "execution_count": 1,
   "metadata": {},
   "outputs": [],
   "source": [
    "import mysignals as sig"
   ]
  },
  {
   "cell_type": "code",
   "execution_count": 4,
   "metadata": {},
   "outputs": [],
   "source": [
    "_mean = 0.0\n",
    "_variance = 0.0\n",
    "\n",
    "\n",
    "def calc_variance(signal_arr):\n",
    "    global _mean, _variance\n",
    "    for i in range(len(signal_arr)):\n",
    "        _mean += signal_arr[i]\n",
    "    _mean = _mean / len(signal_arr)\n",
    "    \n",
    "#      now calculating variance\n",
    "#  we have to substract mean from the each data point of the array\n",
    "#  in order to calculate variance of the signal\n",
    "#  the find the sqaure of each for the same\n",
    "\n",
    "    for i in range(len(signal_arr)):\n",
    "        _variance = _variance + (signal_arr[i]  - _mean)**2 \n",
    "    _variance = _variance / len(signal_arr)\n",
    "    return _variance\n",
    "\n"
   ]
  },
  {
   "cell_type": "code",
   "execution_count": 5,
   "metadata": {},
   "outputs": [
    {
     "name": "stdout",
     "output_type": "stream",
     "text": [
      "The variance of the given signal is : 0.6182214651544999\n"
     ]
    }
   ],
   "source": [
    "var_sig = calc_variance(sig.InputSignal_1kHz_15kHz)\n",
    "print(\"The variance of the given signal is :\", var_sig)"
   ]
  },
  {
   "cell_type": "code",
   "execution_count": null,
   "metadata": {},
   "outputs": [],
   "source": []
  }
 ],
 "metadata": {
  "kernelspec": {
   "display_name": "Python 3",
   "language": "python",
   "name": "python3"
  },
  "language_info": {
   "codemirror_mode": {
    "name": "ipython",
    "version": 3
   },
   "file_extension": ".py",
   "mimetype": "text/x-python",
   "name": "python",
   "nbconvert_exporter": "python",
   "pygments_lexer": "ipython3",
   "version": "3.8.3"
  }
 },
 "nbformat": 4,
 "nbformat_minor": 4
}
