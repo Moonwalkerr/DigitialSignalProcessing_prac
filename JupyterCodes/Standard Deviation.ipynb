{
 "cells": [
  {
   "cell_type": "code",
   "execution_count": 1,
   "metadata": {},
   "outputs": [],
   "source": [
    "import numpy as np\n",
    "import mysignals as sig"
   ]
  },
  {
   "cell_type": "code",
   "execution_count": 2,
   "metadata": {},
   "outputs": [
    {
     "name": "stdout",
     "output_type": "stream",
     "text": [
      "Calculated the standard deviation of given signal with using numpy library : 0.7862706055516132\n"
     ]
    }
   ],
   "source": [
    "stand_dev = np.std(sig.InputSignal_1kHz_15kHz)\n",
    "\n",
    "print(\"Calculated the standard deviation of given signal with using numpy library :\",stand_dev)"
   ]
  },
  {
   "cell_type": "code",
   "execution_count": 4,
   "metadata": {},
   "outputs": [],
   "source": [
    "# Now developing Standard deviation Algorithm from scartch\n",
    "# for calculating standard deviation, all we need is to find the variance\n",
    "# bcoz standard deviaiton is just the square root of the variance\n",
    "\n",
    "_mean = 0.0\n",
    "_variance = 0.0\n",
    "# _std = 0.0\n",
    "def calc_std_dev(signal_arr):\n",
    "#     defining global vars inside function to access them\n",
    "    global _mean, _variance\n",
    "    \n",
    "#     calculating mean\n",
    "    for i in range(len(signal_arr)):\n",
    "        _mean += signal_arr[i]\n",
    "    _mean = _mean / len(signal_arr)\n",
    "    \n",
    "#     calculating variance from signal mean calculated above\n",
    "    for v in range(len(signal_arr)):\n",
    "        _variance += (signal_arr[v] - _mean)**2\n",
    "    _variance = _variance / len(signal_arr)\n",
    "    \n",
    "#     Now calculating the sqrt of the variance to find the standard deviation of the signal\n",
    "    std_dev = _variance**(0.5)\n",
    "    return std_dev"
   ]
  },
  {
   "cell_type": "code",
   "execution_count": 5,
   "metadata": {},
   "outputs": [],
   "source": [
    "sig_std = calc_std_dev(sig.InputSignal_1kHz_15kHz)\n"
   ]
  },
  {
   "cell_type": "code",
   "execution_count": 8,
   "metadata": {},
   "outputs": [
    {
     "name": "stdout",
     "output_type": "stream",
     "text": [
      "The Standard Deviation of the signal is : 0.7862706055516129\n"
     ]
    }
   ],
   "source": [
    "print(\"The Standard Deviation of the signal is :\",sig_std)"
   ]
  }
 ],
 "metadata": {
  "kernelspec": {
   "display_name": "Python 3",
   "language": "python",
   "name": "python3"
  },
  "language_info": {
   "codemirror_mode": {
    "name": "ipython",
    "version": 3
   },
   "file_extension": ".py",
   "mimetype": "text/x-python",
   "name": "python",
   "nbconvert_exporter": "python",
   "pygments_lexer": "ipython3",
   "version": "3.8.3"
  }
 },
 "nbformat": 4,
 "nbformat_minor": 4
}
